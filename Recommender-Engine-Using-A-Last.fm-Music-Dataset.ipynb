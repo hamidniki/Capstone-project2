{
 "cells": [
  {
   "cell_type": "markdown",
   "metadata": {},
   "source": [
    "## Recommender Engine Using A Last.fm Music Dataset"
   ]
  },
  {
   "cell_type": "markdown",
   "metadata": {},
   "source": [
    "This notebook contains all stages of building a recommender engine using a last.fm music dataset. In summary, we will use collaborative filtering algorithms to predict a rating for an artist a user has not listened to. We will use 3 algorithms to implement this prediction:\n",
    "\n",
    "- Taking the average of ratings, for the particular artist, by other users (this serves as the baseline performance)  \n",
    "- Using the pearson correlation coefficient to measure similarity between users. Then take weighted average of the ratings by users who are similar to the user in question  \n",
    "- Using the cosine similarity to measure similarity between users. Then take weighted average of the ratings by users who are similar to the user in question  "
   ]
  },
  {
   "cell_type": "code",
   "execution_count": 2,
   "metadata": {},
   "outputs": [],
   "source": [
    "# Importing the relevant modules\n",
    "from __future__ import division \n",
    "\n",
    "%matplotlib inline\n",
    "import matplotlib.pyplot as plt\n",
    "import numpy as np\n",
    "import pandas as pd\n",
    "\n",
    "import seaborn as sns\n",
    "\n",
    "# Setup Seaborn\n",
    "sns.set_style(\"whitegrid\")\n",
    "sns.set_context(\"poster\")\n",
    "\n",
    "# init random gen\n",
    "np.random.seed(2)"
   ]
  },
  {
   "cell_type": "code",
   "execution_count": 29,
   "metadata": {},
   "outputs": [],
   "source": [
    "# Ignore warnings\n",
    "import warnings\n",
    "\n",
    "def fxn():\n",
    "    warnings.warn(\"deprecated\", DeprecationWarning)\n",
    "\n",
    "with warnings.catch_warnings():\n",
    "    warnings.simplefilter(\"ignore\")\n",
    "    fxn()\n",
    "warnings.filterwarnings(\"ignore\")"
   ]
  },
  {
   "cell_type": "markdown",
   "metadata": {},
   "source": [
    "### Dataset"
   ]
  },
  {
   "cell_type": "code",
   "execution_count": 31,
   "metadata": {},
   "outputs": [],
   "source": [
    "# Reading in the data\n",
    "user_artists = pd.read_csv('hetrec2011-lastfm-2k/user_artists.dat',sep='\\t')\n"
   ]
  },
  {
   "cell_type": "code",
   "execution_count": 32,
   "metadata": {
    "scrolled": true
   },
   "outputs": [
    {
     "data": {
      "text/html": [
       "<div>\n",
       "<style scoped>\n",
       "    .dataframe tbody tr th:only-of-type {\n",
       "        vertical-align: middle;\n",
       "    }\n",
       "\n",
       "    .dataframe tbody tr th {\n",
       "        vertical-align: top;\n",
       "    }\n",
       "\n",
       "    .dataframe thead th {\n",
       "        text-align: right;\n",
       "    }\n",
       "</style>\n",
       "<table border=\"1\" class=\"dataframe\">\n",
       "  <thead>\n",
       "    <tr style=\"text-align: right;\">\n",
       "      <th></th>\n",
       "      <th>userID</th>\n",
       "      <th>artistID</th>\n",
       "      <th>weight</th>\n",
       "    </tr>\n",
       "  </thead>\n",
       "  <tbody>\n",
       "    <tr>\n",
       "      <th>0</th>\n",
       "      <td>2</td>\n",
       "      <td>51</td>\n",
       "      <td>13883</td>\n",
       "    </tr>\n",
       "    <tr>\n",
       "      <th>1</th>\n",
       "      <td>2</td>\n",
       "      <td>52</td>\n",
       "      <td>11690</td>\n",
       "    </tr>\n",
       "    <tr>\n",
       "      <th>2</th>\n",
       "      <td>2</td>\n",
       "      <td>53</td>\n",
       "      <td>11351</td>\n",
       "    </tr>\n",
       "    <tr>\n",
       "      <th>3</th>\n",
       "      <td>2</td>\n",
       "      <td>54</td>\n",
       "      <td>10300</td>\n",
       "    </tr>\n",
       "    <tr>\n",
       "      <th>4</th>\n",
       "      <td>2</td>\n",
       "      <td>55</td>\n",
       "      <td>8983</td>\n",
       "    </tr>\n",
       "  </tbody>\n",
       "</table>\n",
       "</div>"
      ],
      "text/plain": [
       "   userID  artistID  weight\n",
       "0       2        51   13883\n",
       "1       2        52   11690\n",
       "2       2        53   11351\n",
       "3       2        54   10300\n",
       "4       2        55    8983"
      ]
     },
     "execution_count": 32,
     "metadata": {},
     "output_type": "execute_result"
    }
   ],
   "source": [
    "user_artists.head()"
   ]
  },
  {
   "cell_type": "markdown",
   "metadata": {},
   "source": [
    "### Checking for missing values"
   ]
  },
  {
   "cell_type": "markdown",
   "metadata": {},
   "source": [
    "Looking at the results of .info() method below, our dataset does not have any missing values."
   ]
  },
  {
   "cell_type": "code",
   "execution_count": 33,
   "metadata": {},
   "outputs": [
    {
     "name": "stdout",
     "output_type": "stream",
     "text": [
      "<class 'pandas.core.frame.DataFrame'>\n",
      "RangeIndex: 92834 entries, 0 to 92833\n",
      "Data columns (total 3 columns):\n",
      "userID      92834 non-null int64\n",
      "artistID    92834 non-null int64\n",
      "weight      92834 non-null int64\n",
      "dtypes: int64(3)\n",
      "memory usage: 2.1 MB\n"
     ]
    }
   ],
   "source": [
    "user_artists.info()"
   ]
  },
  {
   "cell_type": "code",
   "execution_count": 34,
   "metadata": {},
   "outputs": [
    {
     "name": "stdout",
     "output_type": "stream",
     "text": [
      "(92834, 3)\n",
      "Number of unique users: 1892\n",
      "Number of unique artists: 17632\n"
     ]
    }
   ],
   "source": [
    "print(user_artists.shape)\n",
    "print('Number of unique users: %s' % user_artists.userID.nunique())\n",
    "print('Number of unique artists: %s' % user_artists.artistID.nunique())"
   ]
  },
  {
   "cell_type": "markdown",
   "metadata": {},
   "source": [
    "### Rating system"
   ]
  },
  {
   "cell_type": "markdown",
   "metadata": {},
   "source": [
    "Rating in this dataset(i.e. the 'weight' variable) is based on the number of times a user has listened to an artist. So the values can be anywhere between 1 and 352,698. However, since predicting the exact number of times a user would listen to an artist is not of particular importance, we group 'weight' values into 10 categories and will attempt to predict the category, instead, using the recommender engine."
   ]
  },
  {
   "cell_type": "code",
   "execution_count": 35,
   "metadata": {},
   "outputs": [
    {
     "data": {
      "text/plain": [
       "count     92834.00000\n",
       "mean        745.24393\n",
       "std        3751.32208\n",
       "min           1.00000\n",
       "10%          37.00000\n",
       "20%          83.00000\n",
       "30%         131.00000\n",
       "40%         188.00000\n",
       "50%         260.00000\n",
       "60%         358.00000\n",
       "70%         506.00000\n",
       "80%         764.00000\n",
       "90%        1387.00000\n",
       "max      352698.00000\n",
       "Name: weight, dtype: float64"
      ]
     },
     "execution_count": 35,
     "metadata": {},
     "output_type": "execute_result"
    }
   ],
   "source": [
    "user_artists.weight.describe(percentiles=[0.1,0.2,0.3,0.4,0.5,0.6,0.7,0.8,0.9])"
   ]
  },
  {
   "cell_type": "code",
   "execution_count": 52,
   "metadata": {},
   "outputs": [],
   "source": [
    "user_artists.loc[user_artists.weight <= 37,'rating'] = 1\n",
    "user_artists.loc[(user_artists.weight > 37) & (user_artists.weight <= 83),'rating'] = 2\n",
    "user_artists.loc[(user_artists.weight > 83) & (user_artists.weight <= 131),'rating'] = 3\n",
    "user_artists.loc[(user_artists.weight > 131) & (user_artists.weight <= 188),'rating'] = 4\n",
    "user_artists.loc[(user_artists.weight > 188) & (user_artists.weight <= 260),'rating'] = 5\n",
    "user_artists.loc[(user_artists.weight > 260) & (user_artists.weight <= 358),'rating'] = 6\n",
    "user_artists.loc[(user_artists.weight > 358) & (user_artists.weight <= 506),'rating'] = 7\n",
    "user_artists.loc[(user_artists.weight > 506) & (user_artists.weight <= 764),'rating'] = 8\n",
    "user_artists.loc[(user_artists.weight > 764) & (user_artists.weight <= 1387),'rating'] = 9\n",
    "user_artists.loc[(user_artists.weight > 1387),'rating'] = 10"
   ]
  },
  {
   "cell_type": "code",
   "execution_count": 37,
   "metadata": {
    "scrolled": true
   },
   "outputs": [
    {
     "data": {
      "image/png": "[encoded data removed]",
      "text/plain": [
       "<Figure size 432x288 with 1 Axes>"
      ]
     },
     "metadata": {},
     "output_type": "display_data"
    }
   ],
   "source": [
    "plt.style.use('fivethirtyeight')\n",
    "plt.hist(user_artists.rating,bins=[0.5,1.5,2.5,3.5,4.5,5.5,6.5,7.5,8.5,9.5,10.5])\n",
    "plt.title(\"Distribution of Rating Categories\",fontsize=15)\n",
    "plt.xticks(fontsize=15)\n",
    "plt.yticks(fontsize=15)\n",
    "plt.show()"
   ]
  },
  {
   "cell_type": "markdown",
   "metadata": {
    "collapsed": true
   },
   "source": [
    "### Generating 80-20 train/test sets "
   ]
  },
  {
   "cell_type": "markdown",
   "metadata": {},
   "source": [
    "We do this by putting 20% of each user's ratings in the test set and the remaining 80% in train set. The reason for this is to have as much of the users as we can in both train and test sets. However, this would not be fully possible since some users have only rated one artist."
   ]
  },
  {
   "cell_type": "code",
   "execution_count": 38,
   "metadata": {},
   "outputs": [],
   "source": [
    "#The assign_to_set function will be applied to each user's ratings to mark 20% of those records for testing\n",
    "\n",
    "def assign_to_set(df):\n",
    "    sampled_ids = np.random.choice(df.index,\n",
    "                                   size=np.int64(np.ceil(df.index.size * 0.2)),\n",
    "                                   replace=False)\n",
    "    df.loc[sampled_ids, 'for_testing'] = True\n",
    "    return df"
   ]
  },
  {
   "cell_type": "code",
   "execution_count": 39,
   "metadata": {},
   "outputs": [
    {
     "name": "stdout",
     "output_type": "stream",
     "text": [
      "(92834, 5)\n",
      "(74241, 5)\n",
      "(18593, 5)\n"
     ]
    }
   ],
   "source": [
    "# Train/test split using groupby \n",
    "\n",
    "user_artists['for_testing'] = False\n",
    "grouped = user_artists.groupby('userID', group_keys=False).apply(assign_to_set)\n",
    "user_artists_train = user_artists[grouped.for_testing == False]\n",
    "user_artists_test = user_artists[grouped.for_testing == True]\n",
    "\n",
    "# Verifying the number of records in train and test sets\n",
    "print(user_artists.shape)\n",
    "print(user_artists_train.shape)\n",
    "print(user_artists_test.shape)\n",
    "assert len(user_artists_train.index & user_artists_test.index) == 0"
   ]
  },
  {
   "cell_type": "markdown",
   "metadata": {},
   "source": [
    "### Performance criterion\n",
    "\n",
    "For this project the performance evaluation criterion is RMSE. There are several other options in the literature as well such as:\n",
    "\n",
    "- RMSE: $\\sqrt{\\frac{\\sum(\\hat y - y)^2}{n}}$\n",
    "- Precision / Recall / F-scores\n",
    "- ROC curves\n",
    "- Cost curves"
   ]
  },
  {
   "cell_type": "code",
   "execution_count": 40,
   "metadata": {},
   "outputs": [],
   "source": [
    "# This function calculates RMSE\n",
    "\n",
    "def compute_rmse(y_pred, y_true):\n",
    "    \"\"\" Compute Root Mean Squared Error. \"\"\"\n",
    "    \n",
    "    return np.sqrt(np.mean(np.power(y_pred - y_true, 2)))"
   ]
  },
  {
   "cell_type": "markdown",
   "metadata": {},
   "source": [
    "### Evaluation"
   ]
  },
  {
   "cell_type": "code",
   "execution_count": 41,
   "metadata": {},
   "outputs": [],
   "source": [
    "# We will use the function below to evaluate the engines developed below\n",
    "\n",
    "def evaluate(estimate_f):\n",
    "    \"\"\" RMSE-based predictive performance evaluation with pandas. \"\"\"\n",
    "    \n",
    "    ids_to_estimate = zip(user_artists_test.userID, user_artists_test.artistID)\n",
    "    estimated = np.array([estimate_f(u,i) for (u,i) in ids_to_estimate])\n",
    "    real = user_artists_test.rating.values\n",
    "    return compute_rmse(estimated, real)"
   ]
  },
  {
   "cell_type": "markdown",
   "metadata": {},
   "source": [
    "## Building the Recommender Engine Using Collaborative Filtering"
   ]
  },
  {
   "cell_type": "markdown",
   "metadata": {
    "collapsed": true
   },
   "source": [
    "Here we build the engine using collaborative filtering. This means prediction happens by considering other users' rating for the particular item."
   ]
  },
  {
   "cell_type": "markdown",
   "metadata": {},
   "source": [
    "### Establishing a baseline performance using average"
   ]
  },
  {
   "cell_type": "code",
   "execution_count": 42,
   "metadata": {},
   "outputs": [],
   "source": [
    "# Defining a class for the mean-based collaborative filetr \n",
    "\n",
    "class CollabMeanReco:\n",
    "    \"\"\" Collaborative filtering using average. \"\"\"\n",
    "\n",
    "    def learn(self):\n",
    "        \"\"\" Prepare datastructures for estimation. \"\"\"\n",
    "        \n",
    "        self.all_user_profiles = user_artists.pivot_table('rating', index='artistID', columns='userID')\n",
    "\n",
    "    def estimate(self, userID, artistID):\n",
    "        \"\"\" Ratings weighted by correlation similarity. \"\"\"\n",
    "        \n",
    "        user_condition = user_artists_train.userID != userID\n",
    "        artist_condition = user_artists_train.artistID == artistID\n",
    "        ratings_by_others = user_artists_train.loc[user_condition & artist_condition]\n",
    "        \n",
    "        # If artist was not rated by others, return 5\n",
    "        if ratings_by_others.empty: \n",
    "            return 5.0\n",
    "        \n",
    "        # Otherwise return the mean of ratings by others\n",
    "        else:\n",
    "            return np.average(ratings_by_others.rating)"
   ]
  },
  {
   "cell_type": "code",
   "execution_count": 43,
   "metadata": {},
   "outputs": [
    {
     "name": "stdout",
     "output_type": "stream",
     "text": [
      "RMSE for CollabMeanReco: 2.946419164790173\n"
     ]
    }
   ],
   "source": [
    "# Evaluating the performance of mean based collaborative filter\n",
    "\n",
    "reco = CollabMeanReco()\n",
    "reco.learn()\n",
    "print('RMSE for CollabMeanReco: %s' % evaluate(reco.estimate))"
   ]
  },
  {
   "cell_type": "markdown",
   "metadata": {},
   "source": [
    "### Collaborative Filtering using Pearson Correlation Coefficient"
   ]
  },
  {
   "cell_type": "markdown",
   "metadata": {},
   "source": [
    "- Pearson correlation\n",
    "\n",
    "$$ sim(x,y) = \\frac{(x - \\bar x).(y - \\bar y)}{\\sqrt{(x - \\bar x).(x - \\bar x) * (y - \\bar y)(y - \\bar y)}} $$"
   ]
  },
  {
   "cell_type": "code",
   "execution_count": 44,
   "metadata": {},
   "outputs": [],
   "source": [
    "# Defining the function that calculates pearson correlation coefficient\n",
    "\n",
    "def pearson(s1, s2):\n",
    "    \"\"\"Take two pd.Series objects and return a pearson correlation.\"\"\"\n",
    "    s1_c = s1 - s1.mean()\n",
    "    s2_c = s2 - s2.mean()\n",
    "    return np.sum(s1_c * s2_c) / np.sqrt(np.sum(s1_c ** 2) * np.sum(s2_c ** 2))"
   ]
  },
  {
   "cell_type": "code",
   "execution_count": 45,
   "metadata": {},
   "outputs": [],
   "source": [
    "# Defining a class for the person based collaborative filetr \n",
    "\n",
    "class CollabPearsonReco:\n",
    "    \"\"\" Collaborative filtering using average. \"\"\"\n",
    "\n",
    "    def learn(self):\n",
    "        \"\"\" Prepare datastructures for estimation. \"\"\"\n",
    "        \n",
    "        self.all_user_profiles = user_artists.pivot_table('rating', index='artistID', columns='userID')\n",
    "\n",
    "    def estimate(self, userID, artistID):\n",
    "        \"\"\" Ratings weighted by correlation similarity. \"\"\"\n",
    "        \n",
    "        user_condition = user_artists_train.userID != userID\n",
    "        artist_condition = user_artists_train.artistID == artistID\n",
    "        ratings_by_others = user_artists_train.loc[user_condition & artist_condition]\n",
    "        \n",
    "        # If artist was not rated by others, return 5\n",
    "        if ratings_by_others.empty: \n",
    "            return 5.0\n",
    "        \n",
    "        ratings_by_others.set_index('userID', inplace=True)\n",
    "        their_ids = ratings_by_others.index\n",
    "        their_ratings = ratings_by_others.rating\n",
    "        their_profiles = self.all_user_profiles[their_ids]\n",
    "        user_profile = self.all_user_profiles[userID]\n",
    "        sims = their_profiles.apply(lambda profile: pearson(profile, user_profile), axis=0)\n",
    "        ratings_sims = pd.DataFrame({'sim': sims, 'rating': their_ratings})\n",
    "        ratings_sims = ratings_sims[ratings_sims.sim > 0]\n",
    "        if ratings_sims.empty:\n",
    "            return their_ratings.mean()\n",
    "        else:\n",
    "            return np.average(ratings_sims.rating, weights=ratings_sims.sim)"
   ]
  },
  {
   "cell_type": "code",
   "execution_count": 46,
   "metadata": {
    "scrolled": false
   },
   "outputs": [
    {
     "name": "stdout",
     "output_type": "stream",
     "text": [
      "RMSE for CollabPearsonReco: 2.826735898696825\n"
     ]
    }
   ],
   "source": [
    "# Evaluating the performance of pearson based collaborative filter\n",
    "\n",
    "reco = CollabPearsonReco()\n",
    "reco.learn()\n",
    "print('RMSE for CollabPearsonReco: %s' % evaluate(reco.estimate))"
   ]
  },
  {
   "cell_type": "markdown",
   "metadata": {
    "collapsed": true
   },
   "source": [
    "### Collaborative Filtering using Cosine Similarity"
   ]
  },
  {
   "cell_type": "markdown",
   "metadata": {
    "collapsed": true
   },
   "source": [
    "- Cosine similarity\n",
    "\n",
    "$$ sim(x,y) = \\frac{(x . y)}{\\sqrt{(x . x) (y . y)}} $$"
   ]
  },
  {
   "cell_type": "code",
   "execution_count": 49,
   "metadata": {},
   "outputs": [],
   "source": [
    "def cosine(s1, s2):\n",
    "    \"\"\"Take two pd.Series objects and return their cosine similarity.\"\"\"\n",
    "    return np.sum(s1 * s2) / np.sqrt(np.sum(s1 ** 2) * np.sum(s2 ** 2))"
   ]
  },
  {
   "cell_type": "code",
   "execution_count": 50,
   "metadata": {},
   "outputs": [],
   "source": [
    "# Defining a class for the cosine based collaborative filetr \n",
    "\n",
    "class CollabCosineReco:\n",
    "    \"\"\" Collaborative filtering using average. \"\"\"\n",
    "\n",
    "    def learn(self):\n",
    "        \"\"\" Prepare datastructures for estimation. \"\"\"\n",
    "        \n",
    "        self.all_user_profiles = user_artists.pivot_table('rating', index='artistID', columns='userID')\n",
    "\n",
    "    def estimate(self, userID, artistID):\n",
    "        \"\"\" Ratings weighted by correlation similarity. \"\"\"\n",
    "        \n",
    "        user_condition = user_artists_train.userID != userID\n",
    "        artist_condition = user_artists_train.artistID == artistID\n",
    "        ratings_by_others = user_artists_train.loc[user_condition & artist_condition]\n",
    "        \n",
    "        # If artist was not rated by others, return 5\n",
    "        if ratings_by_others.empty: \n",
    "            return 5.0\n",
    "        \n",
    "        ratings_by_others.set_index('userID', inplace=True)\n",
    "        their_ids = ratings_by_others.index\n",
    "        their_ratings = ratings_by_others.rating\n",
    "        their_profiles = self.all_user_profiles[their_ids]\n",
    "        user_profile = self.all_user_profiles[userID]\n",
    "        sims = their_profiles.apply(lambda profile: cosine(profile, user_profile), axis=0)\n",
    "        ratings_sims = pd.DataFrame({'sim': sims, 'rating': their_ratings})\n",
    "        ratings_sims = ratings_sims[ratings_sims.sim > 0]\n",
    "        if ratings_sims.empty:\n",
    "            return their_ratings.mean()\n",
    "        else:\n",
    "            return np.average(ratings_sims.rating, weights=ratings_sims.sim)"
   ]
  },
  {
   "cell_type": "code",
   "execution_count": 51,
   "metadata": {},
   "outputs": [
    {
     "name": "stdout",
     "output_type": "stream",
     "text": [
      "RMSE for CollabCosineReco: 2.948624000682614\n"
     ]
    }
   ],
   "source": [
    "# Evaluating the performance of cosine based collaborative filter\n",
    "\n",
    "reco = CollabCosineReco()\n",
    "reco.learn()\n",
    "print('RMSE for CollabCosineReco: %s' % evaluate(reco.estimate))"
   ]
  },
  {
   "cell_type": "markdown",
   "metadata": {},
   "source": [
    "The cosine method is performing worse than the Mean method. So the best performing method is Pearson."
   ]
  }
 ],
 "metadata": {
  "kernelspec": {
   "display_name": "Python 3",
   "language": "python",
   "name": "python3"
  },
  "language_info": {
   "codemirror_mode": {
    "name": "ipython",
    "version": 3
   },
   "file_extension": ".py",
   "mimetype": "text/x-python",
   "name": "python",
   "nbconvert_exporter": "python",
   "pygments_lexer": "ipython3",
   "version": "3.7.3"
  }
 },
 "nbformat": 4,
 "nbformat_minor": 1
}
